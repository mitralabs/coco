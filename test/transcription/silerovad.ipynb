{
 "cells": [
  {
   "cell_type": "code",
   "execution_count": 52,
   "metadata": {},
   "outputs": [],
   "source": [
    "!pip install silero-vad -q\n",
    "!pip install soundfile -q\n",
    "!pip install pandas -q"
   ]
  },
  {
   "cell_type": "code",
   "execution_count": 53,
   "metadata": {},
   "outputs": [],
   "source": [
    "import soundfile as sf\n",
    "import pandas\n",
    "import numpy\n",
    "import matplotlib\n",
    "from silero_vad import load_silero_vad, read_audio, get_speech_timestamps, save_audio, collect_chunks\n",
    "model = load_silero_vad()\n",
    "\n",
    "SAMPLING_RATE = 16000"
   ]
  },
  {
   "cell_type": "code",
   "execution_count": null,
   "metadata": {},
   "outputs": [],
   "source": [
    "wav = read_audio(\"audio_samples/snippet_11-48-49_86_middle.wav\")\n",
    "\n",
    "model.reset_states()\n",
    "speech_timestamps = get_speech_timestamps(\n",
    "  wav,\n",
    "  model,\n",
    "  sampling_rate=SAMPLING_RATE,\n",
    "  threshold=0.05,\n",
    "  visualize_probs=True,\n",
    "  #min_speech_duration_ms=1000,\n",
    "  return_seconds=True  \n",
    ")\n",
    "\n",
    "\n",
    "print(speech_timestamps)"
   ]
  },
  {
   "cell_type": "code",
   "execution_count": null,
   "metadata": {},
   "outputs": [],
   "source": [
    "# merge all speech chunks to one audio -> works only with chunks not being in seconds.\n",
    "save_audio('only_speech.wav',\n",
    "           collect_chunks(speech_timestamps, wav), sampling_rate=SAMPLING_RATE)"
   ]
  },
  {
   "cell_type": "code",
   "execution_count": null,
   "metadata": {},
   "outputs": [],
   "source": [
    "# Turn up the volume of the audio and save it to a new file\n",
    "#wav = read_audio(\"filename.wav\", sampling_rate=SAMPLING_RATE)\n",
    "#sf.write(\"filename_louder.wav\", wav * 20, 16000)"
   ]
  }
 ],
 "metadata": {
  "kernelspec": {
   "display_name": "venv-coco",
   "language": "python",
   "name": "python3"
  },
  "language_info": {
   "codemirror_mode": {
    "name": "ipython",
    "version": 3
   },
   "file_extension": ".py",
   "mimetype": "text/x-python",
   "name": "python",
   "nbconvert_exporter": "python",
   "pygments_lexer": "ipython3",
   "version": "3.13.1"
  }
 },
 "nbformat": 4,
 "nbformat_minor": 2
}
