{
 "cells": [
  {
   "cell_type": "code",
   "execution_count": null,
   "metadata": {},
   "outputs": [],
   "source": [
    "def levenshtein_distance(s1, s2):\n",
    "    \"\"\"Calculate the Levenshtein distance between two strings of words\"\"\"\n",
    "    if len(s1) < len(s2):\n",
    "        return levenshtein_distance(s2, s1)\n",
    "    if len(s2) == 0:\n",
    "        return len(s1)\n",
    "    \n",
    "    previous_row = range(len(s2) + 1)\n",
    "    for i, c1 in enumerate(s1):\n",
    "        current_row = [i + 1]\n",
    "        for j, c2 in enumerate(s2):\n",
    "            insertions = previous_row[j + 1] + 1\n",
    "            deletions = current_row[j] + 1\n",
    "            substitutions = previous_row[j] + (c1 != c2)\n",
    "            current_row.append(min(insertions, deletions, substitutions))\n",
    "        previous_row = current_row\n",
    "    \n",
    "    return previous_row[-1]\n",
    "\n",
    "# Original text words\n",
    "original = \"Lassen Sie mich diese Geschichte an der Stelle beginnen an der sie hätte enden sollen Um 16.44 Uhr an einem extrem heißen Sommertag in einer kleinen Einbahnstraße in der Heerstraßensiedlung im Südwesten Berlins Ich saß hinter dem Lenkrad eines Hundertzwanzigtausend Euro Geländewagens von der albernen Sorte die in echtem Gelände etwa so offroad tauglich ist wie ein Liegefahrrad im Dschungel der von einem völlig bescheuerten Kleinkriminellen aufgebrochen worden war Ich war dabei einen Brief zu schreiben Auf meinem Schoß lag eine in Papier eingewickelte langstielige blaue Hortensie und um meinen Hals schlackerte ein lederner Hosengürtel Die Frau die sich mir und damit dem parkenden Stadtpanzer näherte steckte in brombeerfarbenen Yogashorts die so eng anlagen dass sie sie wohl vor einem Tannenbaumtrichter gespannt hatte und hindurchgesprungen war um in sie reinzukommen An den eher zierlichen Füßen klebten Joggingschuhe in Neonquietschpink Ein tailliertes aus Schweiß absorbierendem Slimfit Stoff gedrechseltes Oberteil mit dem Aufdruck Save our Planet komplettierte ihr Sportoutfit\".split()\n",
    "\n",
    "# Transcript text words\n",
    "transcript = \"Lassen Sie mich diese Geschichte an der Stelle beginnen an der sie hätte enden sollen Um 16.44 Uhr an einem extrem heißen Sommertag in einer kleinen Einbahnstraße in der Herrstraßensiedlung im Südwesten Berlins Ich saß hinter dem Lenkrad eines 120.000 Euro Geländewagens von der albernen Sorte die im echten Gelände etwa so offroadtauglich ist wie ein Liegefahrrad im Dschungel der von einem völlig bescheuerten Kleinkriminellen aufgebrochen worden war Ich war dabei einen Brief zu schreiben Auf meinem Schoß lag eine in Papier eingewickelte langstielige blaue Hortensie und um meinen Hals schlackerte ein lederner Hosengürtel Die Frau die sich mir und damit dem parkenden Stadtpanzer näherte steckte in Brombeerfarbenen Yogashorts die so eng anlagen dass sie sie wohl vor einem Tannenbaumtrichter gespannt hatte und hindurchgesprungen war um in sie reinzukommen An den erzieherlichen Füßen klebten Joggingschuhe in Neon Queech Pink Ein tailliertes aus schweißabsorbierendem Slimfit Stoff gedrechseltes Oberteil mit dem Aufdruck Save Our Planet kompletierte ihr Sportoutfit\".split()\n",
    "\n",
    "# Calculate Levenshtein distance\n",
    "distance = levenshtein_distance(original, transcript)\n",
    "\n",
    "# Calculate WER\n",
    "wer = distance / len(original)\n",
    "\n",
    "# Find differences\n",
    "differences = []\n",
    "for i, (orig_word, trans_word) in enumerate(zip(original, transcript)):\n",
    "    if orig_word != trans_word:\n",
    "        differences.append(f\"Original: '{orig_word}' -> Transcript: '{trans_word}'\")\n",
    "\n",
    "print(f\"Number of words in original: {len(original)}\")\n",
    "print(f\"Number of words in transcript: {len(transcript)}\")\n",
    "print(f\"Levenshtein distance: {distance}\")\n",
    "print(f\"Word Error Rate (WER): {wer:.4f}\")\n",
    "print(\"\\nKey differences:\")\n",
    "for diff in differences:\n",
    "    print(diff)"
   ]
  }
 ],
 "metadata": {
  "language_info": {
   "name": "python"
  }
 },
 "nbformat": 4,
 "nbformat_minor": 2
}
