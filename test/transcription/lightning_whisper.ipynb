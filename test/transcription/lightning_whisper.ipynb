{
 "cells": [
  {
   "cell_type": "markdown",
   "metadata": {},
   "source": [
    "## [Github Repo](https://github.com/mustafaaljadery/lightning-whisper-mlx)"
   ]
  },
  {
   "cell_type": "markdown",
   "metadata": {},
   "source": [
    "---"
   ]
  },
  {
   "cell_type": "code",
   "execution_count": 1,
   "metadata": {},
   "outputs": [],
   "source": [
    "!pip install lightning-whisper-mlx -q"
   ]
  },
  {
   "cell_type": "markdown",
   "metadata": {},
   "source": [
    "### Models\n",
    "`[\"tiny\", \"small\", \"distil-small.en\", \"base\", \"medium\", distil-medium.en\", \"large\", \"large-v2\", \"distil-large-v2\", \"large-v3\", \"distil-large-v3\"]`\n",
    "\n",
    "### Quantization\n",
    "`[None, \"4bit\", \"8bit\"]`\n",
    "\n",
    "### Example"
   ]
  },
  {
   "cell_type": "code",
   "execution_count": 3,
   "metadata": {},
   "outputs": [
    {
     "name": "stdout",
     "output_type": "stream",
     "text": [
      " gerne Schulden freimachen und halt überlegt ob ich mich entsprechend das Schuldenanteils einkaufe in das Unternehmen. Langfristig finde ich es echt stark wenn es geselfhostet wäre am besten aus dem Stainable mit Zvola und Zwischenspeicher. Das wäre richtig krass.\n"
     ]
    }
   ],
   "source": [
    "from lightning_whisper_mlx import LightningWhisperMLX\n",
    "\n",
    "whisper = LightningWhisperMLX(model=\"small\") #, batch_size=12, quant=None\n",
    "\n",
    "file_name = \"sample1.wav\"\n",
    "\n",
    "text = whisper.transcribe(audio_path=file_name)['text']\n",
    "\n",
    "print(text)"
   ]
  }
 ],
 "metadata": {
  "kernelspec": {
   "display_name": "venv-coco",
   "language": "python",
   "name": "python3"
  },
  "language_info": {
   "codemirror_mode": {
    "name": "ipython",
    "version": 3
   },
   "file_extension": ".py",
   "mimetype": "text/x-python",
   "name": "python",
   "nbconvert_exporter": "python",
   "pygments_lexer": "ipython3",
   "version": "3.11.9"
  }
 },
 "nbformat": 4,
 "nbformat_minor": 2
}
