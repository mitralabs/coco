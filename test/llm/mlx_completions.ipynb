{
 "cells": [
  {
   "cell_type": "code",
   "execution_count": 1,
   "metadata": {},
   "outputs": [],
   "source": [
    "!pip install mlx-lm -q"
   ]
  },
  {
   "cell_type": "markdown",
   "metadata": {},
   "source": [
    "## Load Model"
   ]
  },
  {
   "cell_type": "code",
   "execution_count": 9,
   "metadata": {},
   "outputs": [
    {
     "name": "stderr",
     "output_type": "stream",
     "text": [
      "Fetching 6 files: 100%|██████████| 6/6 [05:49<00:00, 58.26s/it] \n"
     ]
    }
   ],
   "source": [
    "from mlx_lm import load, generate\n",
    "\n",
    "model, tokenizer = load(\"mlx-community/Meta-Llama-3.1-8B-Instruct-4bit\") #load(\"mlx-community/gemma-2-2b-4bit\")"
   ]
  },
  {
   "cell_type": "markdown",
   "metadata": {},
   "source": [
    "#### Grab something as a prompt"
   ]
  },
  {
   "cell_type": "code",
   "execution_count": 7,
   "metadata": {},
   "outputs": [
    {
     "name": "stdout",
     "output_type": "stream",
     "text": [
      "39\n"
     ]
    }
   ],
   "source": [
    "import json\n",
    "\n",
    "with open('transcript.json') as f:\n",
    "    transcript = json.load(f)\n",
    "\n",
    "content = \"\"\n",
    "conversation_turns = 1\n",
    "for line in transcript[0:conversation_turns]:\n",
    "    content += line + \"\\n\"\n",
    "\n",
    "print(len(content))"
   ]
  },
  {
   "cell_type": "code",
   "execution_count": 10,
   "metadata": {},
   "outputs": [
    {
     "name": "stdout",
     "output_type": "stream",
     "text": [
      "==========\n",
      "Strategic thinking is crucial for startup success. It involves analyzing the market, identifying opportunities, and developing a plan to achieve your goals. Here are some key aspects of strategic thinking for startups:\n",
      "1.  Market analysis: Understand your target audience, their needs, and the competitive landscape.\n",
      "2.  Opportunity identification: Look for gaps in the market, emerging trends, and areas where you can innovate.\n",
      "3.  Goal setting: Define your mission, vision, and objectives, and ensure they align with your strategy.\n",
      "4.  Resource allocation: Determine how to allocate your resources (time, money, talent) to achieve your goals.\n",
      "5.  Risk management: Identify potential risks and develop contingency plans to mitigate them.\n",
      "6.  Innovation: Encourage a culture of innovation within your startup, and be open to new ideas and perspectives.\n",
      "7.  Adaptability: Be prepared to adjust your strategy as circumstances change.\n",
      "8.  Communication: Clearly communicate your strategy to your team, investors, and stakeholders.\n",
      "9.  Monitoring and evaluation: Regularly assess your progress, and make adjustments as needed.\n",
      "10.  Continuous learning: Stay up-to-date with industry trends, best practices, and new technologies to stay ahead of the competition.\n",
      "\n",
      "By applying these strategic thinking principles, startups\n",
      "==========\n",
      "Prompt: 7 tokens, 6.657 tokens-per-sec\n",
      "Generation: 256 tokens, 7.932 tokens-per-sec\n",
      "Peak memory: 5.990 GB\n",
      "==========\n",
      "Strategic thinking is crucial for startup success. It involves analyzing the market, identifying opportunities, and developing a plan to achieve your goals. Here are some key aspects of strategic thinking for startups:\n",
      "1.  Market analysis: Understand your target audience, their needs, and the competitive landscape.\n",
      "2.  Opportunity identification: Look for gaps in the market, emerging trends, and areas where you can innovate.\n",
      "3.  Goal setting: Define your mission, vision, and objectives, and ensure they align with your strategy.\n",
      "4.  Resource allocation: Determine how to allocate your resources (time, money, talent) to achieve your goals.\n",
      "5.  Risk management: Identify potential risks and develop contingency plans to mitigate them.\n",
      "6.  Innovation: Encourage a culture of innovation within your startup, and be open to new ideas and perspectives.\n",
      "7.  Adaptability: Be prepared to adjust your strategy as circumstances change.\n",
      "8.  Communication: Clearly communicate your strategy to your team, investors, and stakeholders.\n",
      "9.  Monitoring and evaluation: Regularly assess your progress, and make adjustments as needed.\n",
      "10.  Continuous learning: Stay up-to-date with industry trends, best practices, and new technologies to stay ahead of the competition.\n",
      "\n",
      "By applying these strategic thinking principles, startups\n",
      "==========\n",
      "Prompt: 7 tokens, 13.068 tokens-per-sec\n",
      "Generation: 256 tokens, 7.728 tokens-per-sec\n",
      "Peak memory: 5.990 GB\n",
      "==========\n",
      "Strategic thinking is crucial for startup success. It involves analyzing the market, identifying opportunities, and developing a plan to achieve your goals. Here are some key aspects of strategic thinking for startups:\n",
      "1.  Market analysis: Understand your target audience, their needs, and the competitive landscape.\n",
      "2.  Opportunity identification: Look for gaps in the market, emerging trends, and areas where you can innovate.\n",
      "3.  Goal setting: Define your mission, vision, and objectives, and ensure they align with your strategy.\n",
      "4.  Resource allocation: Determine how to allocate your resources (time, money, talent) to achieve your goals.\n",
      "5.  Risk management: Identify potential risks and develop contingency plans to mitigate them.\n",
      "6.  Innovation: Encourage a culture of innovation within your startup, and be open to new ideas and perspectives.\n",
      "7.  Adaptability: Be prepared to adjust your strategy as circumstances change.\n",
      "8.  Communication: Clearly communicate your strategy to your team, investors, and stakeholders.\n",
      "9.  Monitoring and evaluation: Regularly assess your progress, and make adjustments as needed.\n",
      "10.  Continuous learning: Stay up-to-date with industry trends, best practices, and new technologies to stay ahead of the competition.\n",
      "\n",
      "By applying these strategic thinking principles, startups\n",
      "==========\n",
      "Prompt: 7 tokens, 13.337 tokens-per-sec\n",
      "Generation: 256 tokens, 7.146 tokens-per-sec\n",
      "Peak memory: 5.990 GB\n",
      "==========\n",
      "Strategic thinking is crucial for startup success. It involves analyzing the market, identifying opportunities, and developing a plan to achieve your goals. Here are some key aspects of strategic thinking for startups:\n",
      "1.  Market analysis: Understand your target audience, their needs, and the competitive landscape.\n",
      "2.  Opportunity identification: Look for gaps in the market, emerging trends, and areas where you can innovate.\n",
      "3.  Goal setting: Define your mission, vision, and objectives, and ensure they align with your strategy.\n",
      "4.  Resource allocation: Determine how to allocate your resources (time, money, talent) to achieve your goals.\n",
      "5.  Risk management: Identify potential risks and develop contingency plans to mitigate them.\n",
      "6.  Innovation: Encourage a culture of innovation within your startup, and be open to new ideas and perspectives.\n",
      "7.  Adaptability: Be prepared to adjust your strategy as circumstances change.\n",
      "8.  Communication: Clearly communicate your strategy to your team, investors, and stakeholders.\n",
      "9.  Monitoring and evaluation: Regularly assess your progress, and make adjustments as needed.\n",
      "10.  Continuous learning: Stay up-to-date with industry trends, best practices, and new technologies to stay ahead of the competition.\n",
      "\n",
      "By applying these strategic thinking principles, startups\n",
      "==========\n",
      "Prompt: 7 tokens, 12.035 tokens-per-sec\n",
      "Generation: 256 tokens, 7.680 tokens-per-sec\n",
      "Peak memory: 5.990 GB\n",
      "==========\n",
      "Strategic thinking is crucial for startup success. It involves analyzing the market, identifying opportunities, and developing a plan to achieve your goals. Here are some key aspects of strategic thinking for startups:\n",
      "1.  Market analysis: Understand your target audience, their needs, and the competitive landscape.\n",
      "2.  Opportunity identification: Look for gaps in the market, emerging trends, and areas where you can innovate.\n",
      "3.  Goal setting: Define your mission, vision, and objectives, and ensure they align with your strategy.\n",
      "4.  Resource allocation: Determine how to allocate your resources (time, money, talent) to achieve your goals.\n",
      "5.  Risk management: Identify potential risks and develop contingency plans to mitigate them.\n",
      "6.  Innovation: Encourage a culture of innovation within your startup, and be open to new ideas and perspectives.\n",
      "7.  Adaptability: Be prepared to adjust your strategy as circumstances change.\n",
      "8.  Communication: Clearly communicate your strategy to your team, investors, and stakeholders.\n",
      "9.  Monitoring and evaluation: Regularly assess your progress, and make adjustments as needed.\n",
      "10.  Continuous learning: Stay up-to-date with industry trends, best practices, and new technologies to stay ahead of the competition.\n",
      "\n",
      "By applying these strategic thinking principles, startups\n",
      "==========\n",
      "Prompt: 7 tokens, 13.216 tokens-per-sec\n",
      "Generation: 256 tokens, 7.660 tokens-per-sec\n",
      "Peak memory: 5.990 GB\n"
     ]
    }
   ],
   "source": [
    "number_of_completions = 5\n",
    "\n",
    "for n in range(number_of_completions):\n",
    "    response = generate(model, tokenizer, prompt=content, verbose=True)"
   ]
  },
  {
   "cell_type": "code",
   "execution_count": 4,
   "metadata": {},
   "outputs": [
    {
     "ename": "ValueError",
     "evalue": "Cannot use chat template functions because tokenizer.chat_template is not set and no template argument was passed! For information about writing templates and setting the tokenizer.chat_template attribute, please see the documentation at https://huggingface.co/docs/transformers/main/en/chat_templating",
     "output_type": "error",
     "traceback": [
      "\u001b[0;31m---------------------------------------------------------------------------\u001b[0m",
      "\u001b[0;31mValueError\u001b[0m                                Traceback (most recent call last)",
      "Cell \u001b[0;32mIn[4], line 4\u001b[0m\n\u001b[1;32m      1\u001b[0m prompt \u001b[38;5;241m=\u001b[39m \u001b[38;5;124m\"\u001b[39m\u001b[38;5;124mWrite a story about Einstein\u001b[39m\u001b[38;5;124m\"\u001b[39m\n\u001b[1;32m      3\u001b[0m messages \u001b[38;5;241m=\u001b[39m [{\u001b[38;5;124m\"\u001b[39m\u001b[38;5;124mrole\u001b[39m\u001b[38;5;124m\"\u001b[39m: \u001b[38;5;124m\"\u001b[39m\u001b[38;5;124muser\u001b[39m\u001b[38;5;124m\"\u001b[39m, \u001b[38;5;124m\"\u001b[39m\u001b[38;5;124mcontent\u001b[39m\u001b[38;5;124m\"\u001b[39m: prompt}]\n\u001b[0;32m----> 4\u001b[0m prompt \u001b[38;5;241m=\u001b[39m \u001b[43mtokenizer\u001b[49m\u001b[38;5;241;43m.\u001b[39;49m\u001b[43mapply_chat_template\u001b[49m\u001b[43m(\u001b[49m\n\u001b[1;32m      5\u001b[0m \u001b[43m    \u001b[49m\u001b[43mmessages\u001b[49m\u001b[43m,\u001b[49m\u001b[43m \u001b[49m\u001b[43madd_generation_prompt\u001b[49m\u001b[38;5;241;43m=\u001b[39;49m\u001b[38;5;28;43;01mTrue\u001b[39;49;00m\n\u001b[1;32m      6\u001b[0m \u001b[43m)\u001b[49m\n\u001b[1;32m      8\u001b[0m text \u001b[38;5;241m=\u001b[39m generate(model, tokenizer, prompt\u001b[38;5;241m=\u001b[39mprompt, verbose\u001b[38;5;241m=\u001b[39m\u001b[38;5;28;01mTrue\u001b[39;00m)\n",
      "File \u001b[0;32m~/Mitra/mitralabs_repos/coco/venv-coco/lib/python3.11/site-packages/transformers/tokenization_utils_base.py:1621\u001b[0m, in \u001b[0;36mPreTrainedTokenizerBase.apply_chat_template\u001b[0;34m(self, conversation, tools, documents, chat_template, add_generation_prompt, continue_final_message, tokenize, padding, truncation, max_length, return_tensors, return_dict, return_assistant_tokens_mask, tokenizer_kwargs, **kwargs)\u001b[0m\n\u001b[1;32m   1618\u001b[0m \u001b[38;5;28;01mif\u001b[39;00m tokenizer_kwargs \u001b[38;5;129;01mis\u001b[39;00m \u001b[38;5;28;01mNone\u001b[39;00m:\n\u001b[1;32m   1619\u001b[0m     tokenizer_kwargs \u001b[38;5;241m=\u001b[39m {}\n\u001b[0;32m-> 1621\u001b[0m chat_template \u001b[38;5;241m=\u001b[39m \u001b[38;5;28;43mself\u001b[39;49m\u001b[38;5;241;43m.\u001b[39;49m\u001b[43mget_chat_template\u001b[49m\u001b[43m(\u001b[49m\u001b[43mchat_template\u001b[49m\u001b[43m,\u001b[49m\u001b[43m \u001b[49m\u001b[43mtools\u001b[49m\u001b[43m)\u001b[49m\n\u001b[1;32m   1623\u001b[0m \u001b[38;5;28;01mif\u001b[39;00m return_assistant_tokens_mask \u001b[38;5;129;01mand\u001b[39;00m \u001b[38;5;129;01mnot\u001b[39;00m re\u001b[38;5;241m.\u001b[39msearch(\u001b[38;5;124mr\u001b[39m\u001b[38;5;124m\"\u001b[39m\u001b[38;5;124m\\\u001b[39m\u001b[38;5;124m{\u001b[39m\u001b[38;5;124m\\\u001b[39m\u001b[38;5;124m%\u001b[39m\u001b[38;5;124m-?\u001b[39m\u001b[38;5;124m\\\u001b[39m\u001b[38;5;124ms*generation\u001b[39m\u001b[38;5;124m\\\u001b[39m\u001b[38;5;124ms*-?\u001b[39m\u001b[38;5;124m\\\u001b[39m\u001b[38;5;124m%\u001b[39m\u001b[38;5;124m\\\u001b[39m\u001b[38;5;124m}\u001b[39m\u001b[38;5;124m\"\u001b[39m, chat_template):\n\u001b[1;32m   1624\u001b[0m     logger\u001b[38;5;241m.\u001b[39mwarning_once(\n\u001b[1;32m   1625\u001b[0m         \u001b[38;5;124m\"\u001b[39m\u001b[38;5;124mreturn_assistant_tokens_mask==True but chat template does not contain `\u001b[39m\u001b[38;5;124m{\u001b[39m\u001b[38;5;132;01m% g\u001b[39;00m\u001b[38;5;124meneration \u001b[39m\u001b[38;5;124m%\u001b[39m\u001b[38;5;124m}` keyword.\u001b[39m\u001b[38;5;124m\"\u001b[39m\n\u001b[1;32m   1626\u001b[0m     )\n",
      "File \u001b[0;32m~/Mitra/mitralabs_repos/coco/venv-coco/lib/python3.11/site-packages/transformers/tokenization_utils_base.py:1789\u001b[0m, in \u001b[0;36mPreTrainedTokenizerBase.get_chat_template\u001b[0;34m(self, chat_template, tools)\u001b[0m\n\u001b[1;32m   1787\u001b[0m         chat_template \u001b[38;5;241m=\u001b[39m \u001b[38;5;28mself\u001b[39m\u001b[38;5;241m.\u001b[39mchat_template\n\u001b[1;32m   1788\u001b[0m     \u001b[38;5;28;01melse\u001b[39;00m:\n\u001b[0;32m-> 1789\u001b[0m         \u001b[38;5;28;01mraise\u001b[39;00m \u001b[38;5;167;01mValueError\u001b[39;00m(\n\u001b[1;32m   1790\u001b[0m             \u001b[38;5;124m\"\u001b[39m\u001b[38;5;124mCannot use chat template functions because tokenizer.chat_template is not set and no template \u001b[39m\u001b[38;5;124m\"\u001b[39m\n\u001b[1;32m   1791\u001b[0m             \u001b[38;5;124m\"\u001b[39m\u001b[38;5;124margument was passed! For information about writing templates and setting the \u001b[39m\u001b[38;5;124m\"\u001b[39m\n\u001b[1;32m   1792\u001b[0m             \u001b[38;5;124m\"\u001b[39m\u001b[38;5;124mtokenizer.chat_template attribute, please see the documentation at \u001b[39m\u001b[38;5;124m\"\u001b[39m\n\u001b[1;32m   1793\u001b[0m             \u001b[38;5;124m\"\u001b[39m\u001b[38;5;124mhttps://huggingface.co/docs/transformers/main/en/chat_templating\u001b[39m\u001b[38;5;124m\"\u001b[39m\n\u001b[1;32m   1794\u001b[0m         )\n\u001b[1;32m   1796\u001b[0m \u001b[38;5;28;01mreturn\u001b[39;00m chat_template\n",
      "\u001b[0;31mValueError\u001b[0m: Cannot use chat template functions because tokenizer.chat_template is not set and no template argument was passed! For information about writing templates and setting the tokenizer.chat_template attribute, please see the documentation at https://huggingface.co/docs/transformers/main/en/chat_templating"
     ]
    }
   ],
   "source": [
    "prompt = \"Write a story about Einstein\"\n",
    "\n",
    "messages = [{\"role\": \"user\", \"content\": prompt}]\n",
    "prompt = tokenizer.apply_chat_template(\n",
    "    messages, add_generation_prompt=True\n",
    ")\n",
    "\n",
    "text = generate(model, tokenizer, prompt=prompt, verbose=True)"
   ]
  }
 ],
 "metadata": {
  "kernelspec": {
   "display_name": "venv-coco",
   "language": "python",
   "name": "python3"
  },
  "language_info": {
   "codemirror_mode": {
    "name": "ipython",
    "version": 3
   },
   "file_extension": ".py",
   "mimetype": "text/x-python",
   "name": "python",
   "nbconvert_exporter": "python",
   "pygments_lexer": "ipython3",
   "version": "3.11.9"
  }
 },
 "nbformat": 4,
 "nbformat_minor": 2
}
