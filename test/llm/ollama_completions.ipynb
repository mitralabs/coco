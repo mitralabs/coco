{
 "cells": [
  {
   "cell_type": "code",
   "execution_count": 1,
   "metadata": {},
   "outputs": [],
   "source": [
    "import requests\n",
    "import json"
   ]
  },
  {
   "cell_type": "markdown",
   "metadata": {},
   "source": [
    "## Model Information"
   ]
  },
  {
   "cell_type": "code",
   "execution_count": null,
   "metadata": {},
   "outputs": [],
   "source": [
    "url_show = \"http://localhost:11434/api/show\"\n",
    "payload_show = {\n",
    "    \"model\": \"gemma2:2b\"}\n",
    "\n",
    "response_show = requests.post(url_show, json=payload_show).json()\n"
   ]
  },
  {
   "cell_type": "markdown",
   "metadata": {},
   "source": [
    "## List Models"
   ]
  },
  {
   "cell_type": "code",
   "execution_count": 58,
   "metadata": {},
   "outputs": [
    {
     "name": "stdout",
     "output_type": "stream",
     "text": [
      "mxbai-embed-large:latest\n",
      "nomic-embed-text:latest\n",
      "llama3.1:latest\n",
      "all-minilm:latest\n",
      "phi3.5:latest\n",
      "gemma2:2b\n",
      "gemma2:latest\n",
      "dolphin-llama3:latest\n",
      "phi3:mini\n",
      "phi3:3.8b\n",
      "llama3:instruct\n",
      "llama3:8b\n",
      "gemma:7b\n",
      "dolphin-phi:latest\n"
     ]
    }
   ],
   "source": [
    "url = \"http://localhost:11434/api/tags\"\n",
    "\n",
    "response = requests.get(url).json()\n",
    "models = [d[\"name\"] for d in response['models']]\n",
    "\n",
    "for model in models:\n",
    "    print(model)"
   ]
  },
  {
   "cell_type": "markdown",
   "metadata": {},
   "source": [
    "#### Grab something as prompt:"
   ]
  },
  {
   "cell_type": "code",
   "execution_count": 2,
   "metadata": {},
   "outputs": [
    {
     "name": "stdout",
     "output_type": "stream",
     "text": [
      "39\n"
     ]
    }
   ],
   "source": [
    "with open('transcript.json') as f:\n",
    "    transcript = json.load(f)\n",
    "\n",
    "content = \"\"\n",
    "conversation_turns = 1\n",
    "for line in transcript[0:conversation_turns]:\n",
    "    content += line + \"\\n\"\n",
    "\n",
    "print(len(content))\n"
   ]
  },
  {
   "cell_type": "markdown",
   "metadata": {},
   "source": [
    "## Get Completion"
   ]
  },
  {
   "cell_type": "code",
   "execution_count": 4,
   "metadata": {},
   "outputs": [],
   "source": [
    "\n",
    "def get_completition(content, model):\n",
    "    url = \"http://localhost:11434/api/chat\"\n",
    "    payload = {\n",
    "        \"model\": model,\n",
    "        \"messages\": [\n",
    "            {\n",
    "                \"role\": \"user\",\n",
    "                \"content\": content\n",
    "            }\n",
    "        ],\n",
    "        \"stream\": False\n",
    "    }\n",
    "\n",
    "    response = requests.post(url, json=payload).json()\n",
    "\n",
    "    return response"
   ]
  },
  {
   "cell_type": "code",
   "execution_count": 6,
   "metadata": {},
   "outputs": [
    {
     "name": "stdout",
     "output_type": "stream",
     "text": [
      "Model: llama3.1:latest\n",
      "---\n",
      "Content Length: 39 characters\n",
      "Prompt tokens per second: 22.61\n",
      "Completion tokens per second: 5.3\n",
      "Load duration: 0.04 seconds\n",
      "Total duration: 104.68 seconds\n",
      "\n",
      "\n",
      "\n",
      "Model: llama3.1:latest\n",
      "---\n",
      "Content Length: 39 characters\n",
      "Prompt tokens per second: 214.29\n",
      "Completion tokens per second: 6.29\n",
      "Load duration: 0.09 seconds\n",
      "Total duration: 85.99 seconds\n",
      "\n",
      "\n",
      "\n",
      "Model: llama3.1:latest\n",
      "---\n",
      "Content Length: 39 characters\n",
      "Prompt tokens per second: 146.34\n",
      "Completion tokens per second: 6.74\n",
      "Load duration: 0.03 seconds\n",
      "Total duration: 90.78 seconds\n",
      "\n",
      "\n",
      "\n",
      "Model: llama3.1:latest\n",
      "---\n",
      "Content Length: 39 characters\n",
      "Prompt tokens per second: 159.29\n",
      "Completion tokens per second: 6.12\n",
      "Load duration: 0.03 seconds\n",
      "Total duration: 77.48 seconds\n",
      "\n",
      "\n",
      "\n",
      "Model: llama3.1:latest\n",
      "---\n",
      "Content Length: 39 characters\n",
      "Prompt tokens per second: 189.47\n",
      "Completion tokens per second: 6.15\n",
      "Load duration: 0.03 seconds\n",
      "Total duration: 69.94 seconds\n",
      "\n",
      "\n",
      "\n"
     ]
    }
   ],
   "source": [
    "#models_to_test = [\"gemma2:2b\", \"llama3:8b\", \"gemma:7b\", \"phi3:3.8b\"]\n",
    "models_to_test = [\"llama3.1:latest\"]\n",
    "\n",
    "number_of_completions = 5\n",
    "\n",
    "for model in models_to_test:\n",
    "    \n",
    "    for n in range(number_of_completions):\n",
    "         \n",
    "        response = get_completition(content, model)\n",
    "\n",
    "        prompt_tokens_per_second = round(response.get(\"prompt_eval_count\", 0) / response.get(\"prompt_eval_duration\",0) * 1_000_000_000,2)\n",
    "        completion_tokens_per_second = round(response.get(\"eval_count\", 0) / response.get(\"eval_duration\",0) * 1_000_000_000,2)\n",
    "        load_duration_seconds = round(response.get(\"load_duration\",0) / 1_000_000_000,2)\n",
    "        total_duration_seconds = round(response.get(\"total_duration\",0) / 1_000_000_000,2)\n",
    "\n",
    "        print(f\"Model: {model}\")\n",
    "        print(\"---\")\n",
    "        print(f\"Content Length: {len(content)} characters\")\n",
    "        print(f\"Prompt tokens per second: {prompt_tokens_per_second}\")\n",
    "        print(f\"Completion tokens per second: {completion_tokens_per_second}\")\n",
    "        print(f\"Load duration: {load_duration_seconds} seconds\")\n",
    "        print(f\"Total duration: {total_duration_seconds} seconds\")\n",
    "        print(\"\\n\\n\")\n"
   ]
  }
 ],
 "metadata": {
  "kernelspec": {
   "display_name": "venv-coco",
   "language": "python",
   "name": "python3"
  },
  "language_info": {
   "codemirror_mode": {
    "name": "ipython",
    "version": 3
   },
   "file_extension": ".py",
   "mimetype": "text/x-python",
   "name": "python",
   "nbconvert_exporter": "python",
   "pygments_lexer": "ipython3",
   "version": "3.11.9"
  }
 },
 "nbformat": 4,
 "nbformat_minor": 2
}
