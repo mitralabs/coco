{
 "cells": [
  {
   "cell_type": "code",
   "execution_count": 1,
   "metadata": {},
   "outputs": [],
   "source": [
    "# Set directory, which will be scanned recursively (including subdirectories) to find all .wav files, which are then appended to a list with all .wav-File Paths\n",
    "\n",
    "import os\n",
    "\n",
    "directory = \"/Users/tillmann/Dropbox/mitralabs/recordings\"\n",
    "wav_files = []\n",
    "\n",
    "for root, dirs, files in os.walk(directory):\n",
    "    for file in files:\n",
    "        if file.endswith(\".wav\"):\n",
    "            wav_files.append(os.path.join(root, file))\n"
   ]
  },
  {
   "cell_type": "code",
   "execution_count": 6,
   "metadata": {},
   "outputs": [
    {
     "data": {
      "text/plain": [
       "{'status': 'success',\n",
       " 'active_tasks': 0,\n",
       " 'max_tasks': 4,\n",
       " 'available_capacity': 4}"
      ]
     },
     "execution_count": 6,
     "metadata": {},
     "output_type": "execute_result"
    }
   ],
   "source": [
    "# Function to check the status of the orchestrator and return the status\n",
    "import requests\n",
    "def check_status():\n",
    "    url = \"http://localhost:3030/status\"\n",
    "    # set header X-API-KEY = \"test\"\n",
    "    headers = {\n",
    "        \"X-API-KEY\":\n",
    "        \"test\"\n",
    "    }   \n",
    "    response = requests.get(url, headers=headers)\n",
    "\n",
    "    return response.json()\n",
    "\n",
    "check_status()"
   ]
  },
  {
   "cell_type": "code",
   "execution_count": 9,
   "metadata": {},
   "outputs": [],
   "source": [
    "\n",
    "def upload_audio_file(file_path, api_key=\"test\", base_url=\"http://localhost:3030\"):\n",
    "    \"\"\"\n",
    "    Upload an audio file to the orchestrator service.\n",
    "    \n",
    "    Args:\n",
    "        file_path (str): Path to the audio file to upload\n",
    "        api_key (str): API key for authentication (default: \"test\")\n",
    "        base_url (str): Base URL of the service (default: \"http://localhost:8000\")\n",
    "        \n",
    "    Returns:\n",
    "        requests.Response: HTTP response from the server\n",
    "    \"\"\"\n",
    "    # Extract filename from path\n",
    "    filename = os.path.basename(file_path)\n",
    "    \n",
    "    # Set headers\n",
    "    headers = {\n",
    "        \"X-API-Key\": api_key,\n",
    "        \"Content-Disposition\": f'attachment; filename=\"{filename}\"'\n",
    "    }\n",
    "    \n",
    "    # Read file content\n",
    "    with open(file_path, \"rb\") as file:\n",
    "        file_content = file.read()\n",
    "    \n",
    "    # Send request\n",
    "    response = requests.post(\n",
    "        f\"{base_url}/uploadAudio\",\n",
    "        headers=headers,\n",
    "        data=file_content\n",
    "    )\n",
    "    \n",
    "    return response"
   ]
  },
  {
   "cell_type": "code",
   "execution_count": 12,
   "metadata": {},
   "outputs": [
    {
     "name": "stdout",
     "output_type": "stream",
     "text": [
      "Uploaded file 1/1745: /Users/tillmann/Dropbox/mitralabs/recordings/session_12/12_11_24-12-30_10-47-30_middle.wav - Status: 200\n",
      "Uploaded file 2/1745: /Users/tillmann/Dropbox/mitralabs/recordings/session_12/12_23_24-12-30_10-53-30_middle.wav - Status: 200\n",
      "Uploaded file 3/1745: /Users/tillmann/Dropbox/mitralabs/recordings/session_12/12_2_24-12-30_10-43-00_middle.wav - Status: 200\n",
      "Uploaded file 4/1745: /Users/tillmann/Dropbox/mitralabs/recordings/session_12/12_30_24-12-30_10-57-00_middle.wav - Status: 200\n",
      "Orchestrator is busy. Please try again later.\n",
      "Orchestrator is busy. Please try again later.\n",
      "Orchestrator is busy. Please try again later.\n",
      "Orchestrator is busy. Please try again later.\n",
      "Uploaded file 5/1745: /Users/tillmann/Dropbox/mitralabs/recordings/session_12/12_18_24-12-30_10-51-00_middle.wav - Status: 200\n",
      "Orchestrator is busy. Please try again later.\n",
      "Orchestrator is busy. Please try again later.\n",
      "Orchestrator is busy. Please try again later.\n",
      "Uploaded file 6/1745: /Users/tillmann/Dropbox/mitralabs/recordings/session_12/12_21_24-12-30_10-52-30_middle.wav - Status: 200\n",
      "Orchestrator is busy. Please try again later.\n",
      "Orchestrator is busy. Please try again later.\n",
      "Orchestrator is busy. Please try again later.\n",
      "Orchestrator is busy. Please try again later.\n",
      "Orchestrator is busy. Please try again later.\n",
      "Uploaded file 7/1745: /Users/tillmann/Dropbox/mitralabs/recordings/session_12/12_13_24-12-30_10-48-30_middle.wav - Status: 200\n",
      "Orchestrator is busy. Please try again later.\n",
      "Orchestrator is busy. Please try again later.\n",
      "Orchestrator is busy. Please try again later.\n",
      "Orchestrator is busy. Please try again later.\n",
      "Uploaded file 8/1745: /Users/tillmann/Dropbox/mitralabs/recordings/session_12/12_32_24-12-30_10-58-00_middle.wav - Status: 200\n",
      "Orchestrator is busy. Please try again later.\n",
      "Orchestrator is busy. Please try again later.\n",
      "Orchestrator is busy. Please try again later.\n",
      "Orchestrator is busy. Please try again later.\n",
      "Orchestrator is busy. Please try again later.\n",
      "Uploaded file 9/1745: /Users/tillmann/Dropbox/mitralabs/recordings/session_12/12_14_24-12-30_10-49-00_middle.wav - Status: 200\n",
      "Orchestrator is busy. Please try again later.\n",
      "Orchestrator is busy. Please try again later.\n",
      "Uploaded file 10/1745: /Users/tillmann/Dropbox/mitralabs/recordings/session_12/12_29_24-12-30_10-56-30_middle.wav - Status: 200\n",
      "Orchestrator is busy. Please try again later.\n",
      "Orchestrator is busy. Please try again later.\n",
      "Orchestrator is busy. Please try again later.\n",
      "Uploaded file 11/1745: /Users/tillmann/Dropbox/mitralabs/recordings/session_12/12_4_24-12-30_10-44-00_middle.wav - Status: 200\n"
     ]
    }
   ],
   "source": [
    "# Upload all .wav files to the orchestrator but before sending an HTTP request, check the status of the orchestrator\n",
    "\n",
    "import time\n",
    "\n",
    "for i,file_path in enumerate(wav_files):\n",
    "\n",
    "    while(check_status()[\"available_capacity\"] == 0):\n",
    "        print(\"Orchestrator is busy. Please try again later.\")\n",
    "        # Wait for 1 second\n",
    "        time.sleep(1)\n",
    "\n",
    "    response = upload_audio_file(file_path)\n",
    "    print(f\"Uploaded file {i+1}/{len(wav_files)}: {file_path} - Status: {response.status_code}\")\n",
    "    \n",
    "    if i == 10:\n",
    "        break   \n"
   ]
  }
 ],
 "metadata": {
  "kernelspec": {
   "display_name": "venv-coco-rep",
   "language": "python",
   "name": "python3"
  },
  "language_info": {
   "codemirror_mode": {
    "name": "ipython",
    "version": 3
   },
   "file_extension": ".py",
   "mimetype": "text/x-python",
   "name": "python",
   "nbconvert_exporter": "python",
   "pygments_lexer": "ipython3",
   "version": "3.11.9"
  }
 },
 "nbformat": 4,
 "nbformat_minor": 2
}
