{
 "cells": [
  {
   "cell_type": "markdown",
   "metadata": {},
   "source": [
    "## This Notebook can be used to send some (test) .wav files to the orchestrator, to test the coco pipeline.\n",
    "\n",
    "Note: To run this code correctly you need to install git lfs (since the .wav files are stored there). The files you see in the /samples directory are just pointers.\n",
    "\n",
    "**Install Git LFS if you haven't already**\n",
    "If on mac, run:\n",
    "```python\n",
    "# Install git LFS\n",
    "brew install git-lfs\n",
    "\n",
    "# Set up Git LFS for your user account\n",
    "git lfs install\n",
    "```\n",
    "\n",
    "**Pull the LFS files**\n",
    "```python\n",
    "# Navigate to the root of this directory\n",
    "cd your-path-to/coco\n",
    "\n",
    "# Pull LFS Files\n",
    "git lfs pull\n",
    "```"
   ]
  },
  {
   "cell_type": "code",
   "execution_count": 1,
   "metadata": {},
   "outputs": [],
   "source": [
    "# Set directory, which will be scanned recursively (including subdirectories) to find all .wav files, which are then appended to a list with all .wav-File Paths\n",
    "\n",
    "import os\n",
    "\n",
    "directory = \"samples/\"\n",
    "wav_files = []\n",
    "\n",
    "for root, dirs, files in os.walk(directory):\n",
    "    for file in files:\n",
    "        if file.endswith(\".wav\"):\n",
    "            wav_files.append(os.path.join(root, file))\n"
   ]
  },
  {
   "cell_type": "code",
   "execution_count": null,
   "metadata": {},
   "outputs": [],
   "source": [
    "!pip install requests -q"
   ]
  },
  {
   "cell_type": "code",
   "execution_count": 2,
   "metadata": {},
   "outputs": [
    {
     "data": {
      "text/plain": [
       "{'status': 'success',\n",
       " 'active_tasks': 0,\n",
       " 'max_tasks': 1,\n",
       " 'available_capacity': 1}"
      ]
     },
     "execution_count": 2,
     "metadata": {},
     "output_type": "execute_result"
    }
   ],
   "source": [
    "# Function to check the status of the orchestrator and return the status\n",
    "import requests\n",
    "def check_status():\n",
    "    url = \"http://localhost:3030/status\"\n",
    "    headers = {\n",
    "        \"X-API-KEY\":\n",
    "        \"local\"\n",
    "    }   \n",
    "    response = requests.get(url, headers=headers)\n",
    "\n",
    "    return response.json()\n",
    "\n",
    "check_status()"
   ]
  },
  {
   "cell_type": "code",
   "execution_count": 3,
   "metadata": {},
   "outputs": [],
   "source": [
    "def upload_audio_file(file_path, api_key=\"local\", base_url=\"http://localhost:3030\"):\n",
    "    \"\"\"\n",
    "    Upload an audio file to the orchestrator service.\n",
    "    \n",
    "    Args:\n",
    "        file_path (str): Path to the audio file to upload\n",
    "        api_key (str): API key for authentication (default: \"test\")\n",
    "        base_url (str): Base URL of the service (default: \"http://localhost:8000\")\n",
    "        \n",
    "    Returns:\n",
    "        requests.Response: HTTP response from the server\n",
    "    \"\"\"\n",
    "    # Extract filename from path\n",
    "    filename = os.path.basename(file_path)\n",
    "    \n",
    "    # Set headers\n",
    "    headers = {\n",
    "        \"X-API-Key\": api_key,\n",
    "        \"Content-Disposition\": f'attachment; filename=\"{filename}\"'\n",
    "    }\n",
    "    \n",
    "    # Read file content\n",
    "    with open(file_path, \"rb\") as file:\n",
    "        file_content = file.read()\n",
    "    \n",
    "    # Send request\n",
    "    response = requests.post(\n",
    "        f\"{base_url}/uploadAudio\",\n",
    "        headers=headers,\n",
    "        data=file_content\n",
    "    )\n",
    "    \n",
    "    return response"
   ]
  },
  {
   "cell_type": "code",
   "execution_count": 4,
   "metadata": {},
   "outputs": [],
   "source": [
    "# Sort Files by session id and index\n",
    "\n",
    "def sort_files(wav_files):\n",
    "    sorted_files = []\n",
    "    for file in wav_files:\n",
    "        try:\n",
    "            file_name = file.split(\"/\")[-1]\n",
    "            session_id = file_name.split(\"_\")[0]\n",
    "            index = file_name.split(\"_\")[1]\n",
    "            sorted_files.append((session_id, index, file))\n",
    "        except:\n",
    "            pass\n",
    "\n",
    "    # Sort files but account that index 2 comes after 1 and not after 19\n",
    "    sorted_files.sort(key=lambda x: (x[0], int(x[1])))\n",
    "    return sorted_files"
   ]
  },
  {
   "cell_type": "code",
   "execution_count": 5,
   "metadata": {},
   "outputs": [
    {
     "name": "stdout",
     "output_type": "stream",
     "text": [
      "('1', '1', 'samples/1_1_25-04-17_18-06-57_start.wav')\n",
      "('1', '2', 'samples/1_2_25-04-17_18-07-07_middle.wav')\n",
      "('1', '3', 'samples/1_3_25-04-17_18-07-17_middle.wav')\n",
      "('1', '4', 'samples/1_4_25-04-17_18-07-27_middle.wav')\n",
      "('1', '5', 'samples/1_5_25-04-17_18-07-37_middle.wav')\n"
     ]
    }
   ],
   "source": [
    "sorted_files = sort_files(wav_files)\n",
    "\n",
    "# Print first 5 sorted files\n",
    "for i in range(5):\n",
    "    print(sorted_files[i])"
   ]
  },
  {
   "cell_type": "markdown",
   "metadata": {},
   "source": [
    "## Note: The execution of the later cell might take a while, depending on your system and the whisper model you've chosen."
   ]
  },
  {
   "cell_type": "code",
   "execution_count": 10,
   "metadata": {},
   "outputs": [
    {
     "name": "stdout",
     "output_type": "stream",
     "text": [
      "Uploaded file 1/81: samples/1_1_25-04-17_18-06-57_start.wav - Status: 200\n",
      "Uploaded file 2/81: samples/1_2_25-04-17_18-07-07_middle.wav - Status: 200\n",
      "Uploaded file 3/81: samples/1_3_25-04-17_18-07-17_middle.wav - Status: 200\n",
      "Uploaded file 4/81: samples/1_4_25-04-17_18-07-27_middle.wav - Status: 200\n",
      "Uploaded file 5/81: samples/1_5_25-04-17_18-07-37_middle.wav - Status: 200\n",
      "Uploaded file 6/81: samples/1_6_25-04-17_18-07-47_middle.wav - Status: 200\n",
      "Uploaded file 7/81: samples/1_7_25-04-17_18-07-57_middle.wav - Status: 200\n",
      "Uploaded file 8/81: samples/1_8_25-04-17_18-08-07_middle.wav - Status: 200\n",
      "Uploaded file 9/81: samples/1_9_25-04-17_18-08-17_middle.wav - Status: 200\n",
      "Uploaded file 10/81: samples/1_10_25-04-17_18-08-27_middle.wav - Status: 200\n",
      "Uploaded file 11/81: samples/1_11_25-04-17_18-08-37_middle.wav - Status: 200\n",
      "Uploaded file 12/81: samples/1_12_25-04-17_18-08-47_middle.wav - Status: 200\n",
      "Uploaded file 13/81: samples/1_13_25-04-17_18-08-57_middle.wav - Status: 200\n",
      "Uploaded file 14/81: samples/1_14_25-04-17_18-09-07_middle.wav - Status: 200\n",
      "Uploaded file 15/81: samples/1_15_25-04-17_18-09-17_middle.wav - Status: 200\n",
      "Uploaded file 16/81: samples/1_16_25-04-17_18-09-27_middle.wav - Status: 200\n",
      "Uploaded file 17/81: samples/1_17_25-04-17_18-09-37_middle.wav - Status: 200\n",
      "Uploaded file 18/81: samples/1_18_25-04-17_18-09-47_middle.wav - Status: 200\n",
      "Uploaded file 19/81: samples/1_19_25-04-17_18-09-57_middle.wav - Status: 200\n",
      "Uploaded file 20/81: samples/1_20_25-04-17_18-10-07_middle.wav - Status: 200\n",
      "Uploaded file 21/81: samples/1_21_25-04-17_18-10-17_middle.wav - Status: 200\n",
      "Uploaded file 22/81: samples/1_22_25-04-17_18-10-27_middle.wav - Status: 200\n",
      "Uploaded file 23/81: samples/1_23_25-04-17_18-10-37_middle.wav - Status: 200\n",
      "Uploaded file 24/81: samples/1_24_25-04-17_18-10-47_middle.wav - Status: 200\n",
      "Uploaded file 25/81: samples/1_25_25-04-17_18-10-57_middle.wav - Status: 200\n",
      "Uploaded file 26/81: samples/1_26_25-04-17_18-11-07_middle.wav - Status: 200\n",
      "Uploaded file 27/81: samples/1_27_25-04-17_18-11-17_middle.wav - Status: 200\n",
      "Uploaded file 28/81: samples/1_28_25-04-17_18-11-27_middle.wav - Status: 200\n",
      "Uploaded file 29/81: samples/1_29_25-04-17_18-11-37_middle.wav - Status: 200\n",
      "Uploaded file 30/81: samples/1_30_25-04-17_18-11-47_middle.wav - Status: 200\n",
      "Uploaded file 31/81: samples/1_31_25-04-17_18-11-57_middle.wav - Status: 200\n",
      "Uploaded file 32/81: samples/1_32_25-04-17_18-12-07_middle.wav - Status: 200\n",
      "Uploaded file 33/81: samples/1_33_25-04-17_18-12-17_middle.wav - Status: 200\n",
      "Uploaded file 34/81: samples/1_34_25-04-17_18-12-27_middle.wav - Status: 200\n",
      "Uploaded file 35/81: samples/1_35_25-04-17_18-12-37_middle.wav - Status: 200\n",
      "Uploaded file 36/81: samples/1_36_25-04-17_18-12-47_middle.wav - Status: 200\n",
      "Uploaded file 37/81: samples/1_37_25-04-17_18-12-57_middle.wav - Status: 200\n",
      "Uploaded file 38/81: samples/1_38_25-04-17_18-13-07_middle.wav - Status: 200\n",
      "Uploaded file 39/81: samples/1_39_25-04-17_18-13-17_middle.wav - Status: 200\n",
      "Uploaded file 40/81: samples/1_40_25-04-17_18-13-27_middle.wav - Status: 200\n",
      "Uploaded file 41/81: samples/1_41_25-04-17_18-13-37_middle.wav - Status: 200\n",
      "Uploaded file 42/81: samples/1_42_25-04-17_18-13-47_middle.wav - Status: 200\n",
      "Uploaded file 43/81: samples/1_43_25-04-17_18-13-57_middle.wav - Status: 200\n",
      "Uploaded file 44/81: samples/1_44_25-04-17_18-14-07_middle.wav - Status: 200\n",
      "Uploaded file 45/81: samples/1_45_25-04-17_18-14-17_middle.wav - Status: 200\n",
      "Uploaded file 46/81: samples/1_46_25-04-17_18-14-27_middle.wav - Status: 200\n",
      "Uploaded file 47/81: samples/1_47_25-04-17_18-14-37_middle.wav - Status: 200\n",
      "Uploaded file 48/81: samples/1_48_25-04-17_18-14-47_middle.wav - Status: 200\n",
      "Uploaded file 49/81: samples/1_49_25-04-17_18-14-57_middle.wav - Status: 200\n",
      "Uploaded file 50/81: samples/1_50_25-04-17_18-15-07_middle.wav - Status: 200\n",
      "Uploaded file 51/81: samples/1_51_25-04-17_18-15-17_middle.wav - Status: 200\n",
      "Uploaded file 52/81: samples/1_52_25-04-17_18-15-27_middle.wav - Status: 200\n",
      "Uploaded file 53/81: samples/1_53_25-04-17_18-15-37_middle.wav - Status: 200\n",
      "Uploaded file 54/81: samples/1_54_25-04-17_18-15-47_middle.wav - Status: 200\n",
      "Uploaded file 55/81: samples/1_55_25-04-17_18-15-57_middle.wav - Status: 200\n",
      "Uploaded file 56/81: samples/1_56_25-04-17_18-16-07_middle.wav - Status: 200\n",
      "Uploaded file 57/81: samples/1_57_25-04-17_18-16-17_middle.wav - Status: 200\n",
      "Uploaded file 58/81: samples/1_58_25-04-17_18-16-27_middle.wav - Status: 200\n",
      "Uploaded file 59/81: samples/1_59_25-04-17_18-16-37_middle.wav - Status: 200\n",
      "Uploaded file 60/81: samples/1_60_25-04-17_18-16-47_middle.wav - Status: 200\n",
      "Uploaded file 61/81: samples/1_61_25-04-17_18-16-57_middle.wav - Status: 200\n",
      "Uploaded file 62/81: samples/1_62_25-04-17_18-17-07_middle.wav - Status: 200\n",
      "Uploaded file 63/81: samples/1_63_25-04-17_18-17-17_middle.wav - Status: 200\n",
      "Uploaded file 64/81: samples/1_64_25-04-17_18-17-27_middle.wav - Status: 200\n",
      "Uploaded file 65/81: samples/1_65_25-04-17_18-17-37_middle.wav - Status: 200\n",
      "Uploaded file 66/81: samples/1_66_25-04-17_18-17-47_middle.wav - Status: 200\n",
      "Uploaded file 67/81: samples/1_67_25-04-17_18-17-57_middle.wav - Status: 200\n",
      "Uploaded file 68/81: samples/1_68_25-04-17_18-18-07_middle.wav - Status: 200\n",
      "Uploaded file 69/81: samples/1_69_25-04-17_18-18-17_middle.wav - Status: 200\n",
      "Uploaded file 70/81: samples/1_70_25-04-17_18-18-27_middle.wav - Status: 200\n",
      "Uploaded file 71/81: samples/1_71_25-04-17_18-18-37_middle.wav - Status: 200\n",
      "Uploaded file 72/81: samples/1_72_25-04-17_18-18-47_middle.wav - Status: 200\n",
      "Uploaded file 73/81: samples/1_73_25-04-17_18-18-57_middle.wav - Status: 200\n",
      "Uploaded file 74/81: samples/1_74_25-04-17_18-19-07_middle.wav - Status: 200\n",
      "Uploaded file 75/81: samples/1_75_25-04-17_18-19-17_middle.wav - Status: 200\n",
      "Uploaded file 76/81: samples/1_76_25-04-17_18-19-27_middle.wav - Status: 200\n",
      "Uploaded file 77/81: samples/1_77_25-04-17_18-19-37_middle.wav - Status: 200\n",
      "Uploaded file 78/81: samples/1_78_25-04-17_18-19-47_middle.wav - Status: 200\n",
      "Uploaded file 79/81: samples/1_79_25-04-17_18-19-57_middle.wav - Status: 200\n",
      "Uploaded file 80/81: samples/1_80_25-04-17_18-20-07_middle.wav - Status: 200\n",
      "Uploaded file 81/81: samples/1_81_25-04-17_18-20-17_end.wav - Status: 200\n"
     ]
    }
   ],
   "source": [
    "# Upload all .wav files to the orchestrator but before sending an HTTP request, check the status of the orchestrator\n",
    "\n",
    "import time\n",
    "\n",
    "sorted_files = sort_files(wav_files)\n",
    "\n",
    "for i,file_path in enumerate(sorted_files):\n",
    "\n",
    "    while(check_status()[\"available_capacity\"] == 0):\n",
    "        # Optionally, you can print a message to inform the user\n",
    "        # print(\"Orchestrator is busy. Please try again later.\")\n",
    "        # Wait for half a second\n",
    "        time.sleep(0.5)\n",
    "\n",
    "    file_path = file_path[2]\n",
    "\n",
    "    response = upload_audio_file(file_path)\n",
    "    print(f\"Uploaded file {i+1}/{len(wav_files)}: {file_path} - Status: {response.status_code}\")\n",
    "\n",
    "    # wait for half a second\n",
    "    time.sleep(0.5) \n"
   ]
  }
 ],
 "metadata": {
  "kernelspec": {
   "display_name": "venv",
   "language": "python",
   "name": "python3"
  },
  "language_info": {
   "codemirror_mode": {
    "name": "ipython",
    "version": 3
   },
   "file_extension": ".py",
   "mimetype": "text/x-python",
   "name": "python",
   "nbconvert_exporter": "python",
   "pygments_lexer": "ipython3",
   "version": "3.12.10"
  }
 },
 "nbformat": 4,
 "nbformat_minor": 2
}
